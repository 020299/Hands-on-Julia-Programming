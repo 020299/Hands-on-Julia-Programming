{
 "cells": [
  {
   "cell_type": "markdown",
   "metadata": {},
   "source": [
    "## N-Queens with UI\n",
    "This notebook contains the sample source code explained in the book Hands-On Julia Programming, Sambit Kumar Dash, 2021, bpb Publications. All Rights Reserved."
   ]
  },
  {
   "cell_type": "code",
   "execution_count": 1,
   "metadata": {},
   "outputs": [
    {
     "name": "stderr",
     "output_type": "stream",
     "text": [
      "\u001b[32m\u001b[1m  Activating\u001b[22m\u001b[39m environment at `~/work/books/HOPJ/Chapter-13/NQueens/Project.toml`\n"
     ]
    }
   ],
   "source": [
    "using Pkg\n",
    "pkg\"activate .\"\n",
    "pkg\"instantiate\""
   ]
  },
  {
   "cell_type": "code",
   "execution_count": 2,
   "metadata": {},
   "outputs": [
    {
     "data": {
      "text/plain": [
       "attacks (generic function with 1 method)"
      ]
     },
     "execution_count": 2,
     "metadata": {},
     "output_type": "execute_result"
    }
   ],
   "source": [
    "attacks(x1, y1, x2, y2) = (x1 == x2 || y1 == y2 || x1 - y1 == x2 - y2 || x1 + y1 == x2 + y2)"
   ]
  },
  {
   "cell_type": "code",
   "execution_count": 3,
   "metadata": {},
   "outputs": [
    {
     "data": {
      "text/html": [
       "<script>\n",
       "// Immediately-invoked-function-expression to avoid global variables.\n",
       "(function() {\n",
       "    var warning_div = document.getElementById(\"webio-warning-5456416032771448592\");\n",
       "    var hide = function () {\n",
       "        var script = document.getElementById(\"webio-setup-15217126797553077955\");\n",
       "        var parent = script && script.parentElement;\n",
       "        var grandparent = parent && parent.parentElement;\n",
       "        if (grandparent) {\n",
       "            grandparent.style.display = \"none\";\n",
       "        }\n",
       "        warning_div.style.display = \"none\";\n",
       "    };\n",
       "    if (typeof Jupyter !== \"undefined\") {\n",
       "        console.log(\"WebIO detected Jupyter notebook environment.\");\n",
       "        // Jupyter notebook.\n",
       "        var extensions = (\n",
       "            Jupyter\n",
       "            && Jupyter.notebook.config.data\n",
       "            && Jupyter.notebook.config.data.load_extensions\n",
       "        );\n",
       "        if (extensions && extensions[\"webio-jupyter-notebook\"]) {\n",
       "            // Extension already loaded.\n",
       "            console.log(\"Jupyter WebIO nbextension detected; not loading ad-hoc.\");\n",
       "            hide();\n",
       "            return;\n",
       "        }\n",
       "    } else if (window.location.pathname.includes(\"/lab\")) {\n",
       "        // Guessing JupyterLa\n",
       "        console.log(\"Jupyter Lab detected; make sure the @webio/jupyter-lab-provider labextension is installed.\");\n",
       "        hide();\n",
       "        return;\n",
       "    }\n",
       "})();\n",
       "\n",
       "</script>\n",
       "<p\n",
       "    id=\"webio-warning-5456416032771448592\"\n",
       "    class=\"output_text output_stderr\"\n",
       "    style=\"padding: 1em; font-weight: bold;\"\n",
       ">\n",
       "    Unable to load WebIO. Please make sure WebIO works for your Jupyter client.\n",
       "    For troubleshooting, please see <a href=\"https://juliagizmos.github.io/WebIO.jl/latest/providers/ijulia/\">\n",
       "    the WebIO/IJulia documentation</a>.\n",
       "    <!-- TODO: link to installation docs. -->\n",
       "</p>\n"
      ],
      "text/plain": [
       "HTML{String}(\"<script>\\n// Immediately-invoked-function-expression to avoid global variables.\\n(function() {\\n    var warning_div = document.getElementById(\\\"webio-warning-5456416032771448592\\\");\\n    var hide = function () {\\n        var script = document.getElementById(\\\"webio-setup-15217126797553077955\\\");\\n        var parent = script && script.parentElement;\\n        var grandparent = parent && parent.parentElement;\\n        if (grandparent) {\\n            grandparent.style.display = \\\"none\\\";\\n        }\\n        warning_div.style.display = \\\"none\\\";\\n    };\\n    if (typeof Jupyter !== \\\"undefined\\\") {\\n        console.log(\\\"WebIO detected Jupyter notebook environment.\\\");\\n        // Jupyter notebook.\\n        var extensions = (\\n            Jupyter\\n            && Jupyter.notebook.config.data\\n            && Jupyter.notebook.config.data.load_extensions\\n        );\\n        if (extensions && extensions[\\\"webio-jupyter-notebook\\\"]) {\\n            // Extension already loaded.\\n            console.log(\\\"Jupyter WebIO nbextension detected; not loading ad-hoc.\\\");\\n            hide();\\n            return;\\n        }\\n    } else if (window.location.pathname.includes(\\\"/lab\\\")) {\\n        // Guessing JupyterLa\\n        console.log(\\\"Jupyter Lab detected; make sure the @webio/jupyter-lab-provider labextension is installed.\\\");\\n        hide();\\n        return;\\n    }\\n})();\\n\\n</script>\\n<p\\n    id=\\\"webio-warning-5456416032771448592\\\"\\n    class=\\\"output_text output_stderr\\\"\\n    style=\\\"padding: 1em; font-weight: bold;\\\"\\n>\\n    Unable to load WebIO. Please make sure WebIO works for your Jupyter client.\\n    For troubleshooting, please see <a href=\\\"https://juliagizmos.github.io/WebIO.jl/latest/providers/ijulia/\\\">\\n    the WebIO/IJulia documentation</a>.\\n    <!-- TODO: link to installation docs. -->\\n</p>\\n\")"
      ]
     },
     "metadata": {},
     "output_type": "display_data"
    }
   ],
   "source": [
    "using WebIO"
   ]
  },
  {
   "cell_type": "code",
   "execution_count": 4,
   "metadata": {},
   "outputs": [
    {
     "data": {
      "application/vnd.webio.node+json": {
       "children": [
        "Hello, Jupyter"
       ],
       "instanceArgs": {
        "namespace": "html",
        "tag": "p"
       },
       "nodeType": "DOM",
       "props": {},
       "type": "node"
      },
      "text/html": [
       "<div\n",
       "    class=\"webio-mountpoint\"\n",
       "    data-webio-mountpoint=\"9472145262270817569\"\n",
       ">\n",
       "    <script>\n",
       "    if (window.require && require.defined && require.defined(\"nbextensions/webio-jupyter-notebook\")) {\n",
       "        console.log(\"Jupyter WebIO extension detected, not mounting.\");\n",
       "    } else if (window.WebIO) {\n",
       "        WebIO.mount(\n",
       "            document.querySelector('[data-webio-mountpoint=\"9472145262270817569\"]'),\n",
       "            {\"props\":{},\"nodeType\":\"DOM\",\"type\":\"node\",\"instanceArgs\":{\"namespace\":\"html\",\"tag\":\"p\"},\"children\":[\"Hello, Jupyter\"]},\n",
       "            window,\n",
       "        );\n",
       "    } else {\n",
       "        document\n",
       "            .querySelector('[data-webio-mountpoint=\"9472145262270817569\"]')\n",
       "            .innerHTML = (\n",
       "                '<div style=\"padding: 1em; background-color: #f8d6da; border: 1px solid #f5c6cb\">' +\n",
       "                '<p><strong>WebIO not detected.</strong></p>' +\n",
       "                '<p>Please read ' +\n",
       "                '<a href=\"https://juliagizmos.github.io/WebIO.jl/latest/troubleshooting/not-detected/\" target=\"_blank\">the troubleshooting guide</a> ' +\n",
       "                'for more information on how to resolve this issue.</p>' +\n",
       "                '<p><a href=\"https://juliagizmos.github.io/WebIO.jl/latest/troubleshooting/not-detected/\" target=\"_blank\">https://juliagizmos.github.io/WebIO.jl/latest/troubleshooting/not-detected/</a></p>' +\n",
       "                '</div>'\n",
       "            );\n",
       "    }\n",
       "    </script>\n",
       "</div>\n"
      ],
      "text/plain": [
       "(p\n",
       "  \"Hello, Jupyter\")"
      ]
     },
     "execution_count": 4,
     "metadata": {
      "application/vnd.webio.node+json": {
       "kernelId": "93f42400-fb21-4a31-8ab4-d2d1121e2fe7"
      }
     },
     "output_type": "execute_result"
    }
   ],
   "source": [
    "node(:p, \"Hello, Jupyter\")"
   ]
  },
  {
   "cell_type": "code",
   "execution_count": 5,
   "metadata": {},
   "outputs": [],
   "source": [
    "# Uncomment and run this code if Jupyter does not render Hello, Jupyter in the previous step.\n",
    "# WebIO.install_jupyter_nbextension() "
   ]
  },
  {
   "cell_type": "code",
   "execution_count": 6,
   "metadata": {},
   "outputs": [
    {
     "data": {
      "text/plain": [
       "queens (generic function with 1 method)"
      ]
     },
     "execution_count": 6,
     "metadata": {},
     "output_type": "execute_result"
    }
   ],
   "source": [
    "function queens(N, xs...)\n",
    "    lxs = length(xs)\n",
    "    c = N - lxs\n",
    "    c == 0 && return reverse(xs)\n",
    "    for i=1:N\n",
    "        any(1:lxs) do j\n",
    "            attacks(xs[j], N-j+1, i, c)\n",
    "        end && continue\n",
    "        v = queens(N, xs..., i)\n",
    "        v !== nothing && return v\n",
    "    end\n",
    "    return nothing\n",
    "end"
   ]
  },
  {
   "cell_type": "code",
   "execution_count": 7,
   "metadata": {},
   "outputs": [
    {
     "data": {
      "text/plain": [
       "(4, 2, 7, 3, 6, 8, 5, 1)"
      ]
     },
     "execution_count": 7,
     "metadata": {},
     "output_type": "execute_result"
    }
   ],
   "source": [
    "N, W = 8, 30\n",
    "allqueens = queens(N)"
   ]
  },
  {
   "cell_type": "code",
   "execution_count": 8,
   "metadata": {},
   "outputs": [
    {
     "data": {
      "application/vnd.webio.node+json": {
       "children": [
        {
         "children": [],
         "instanceArgs": {
          "namespace": "html",
          "tag": "canvas"
         },
         "nodeType": "DOM",
         "props": {
          "attributes": {
           "height": "240",
           "width": "240"
          },
          "id": "ChessBoard"
         },
         "type": "node"
        },
        {
         "children": [
          "    function draw_queen(ctx, sx, sy){\n        ctx.fillStyle = \"#C0C0C0\";\n        ctx.fillText(\"Q\", sx+30/5, sy+4*30/5);\n        ctx.fillStyle = \"#000000\";\n    }\n\n    function draw_board(ctx, queens){\n        n = queens.length\n        ctx.fillStyle = \"#FFFFFF\";\n        ctx.fillRect(0, 0, n*30, n*30);\n        ctx.fillStyle = \"#000000\";\n        sx = 0; sy = 0;\n\n        for (i=n-1; i >= 0; i--){\n            for (j=0; j < n; j++){\n                if ((i+j)%2 == 0) \n                    ctx.fillRect(sx, sy, 30, 30);\n                if (j == queens[i] - 1)\n                    draw_queen(ctx, sx, sy)\n                sx += 30;\n            }\n            sy += 30; sx = 0;\n        }\n    }\n\n    var c = document.getElementById(\"ChessBoard\"); \n    var ctx = c.getContext(\"2d\"); \n    ctx.font = \"24px sans-serif\"; \n    draw_board(ctx, [4, 2, 7, 3, 6, 8, 5, 1]);\n"
         ],
         "instanceArgs": {
          "namespace": "html",
          "tag": "script"
         },
         "nodeType": "DOM",
         "props": {},
         "type": "node"
        }
       ],
       "instanceArgs": {
        "namespace": "html",
        "tag": "div"
       },
       "nodeType": "DOM",
       "props": {},
       "type": "node"
      },
      "text/html": [
       "<div\n",
       "    class=\"webio-mountpoint\"\n",
       "    data-webio-mountpoint=\"986208939574194772\"\n",
       ">\n",
       "    <script>\n",
       "    if (window.require && require.defined && require.defined(\"nbextensions/webio-jupyter-notebook\")) {\n",
       "        console.log(\"Jupyter WebIO extension detected, not mounting.\");\n",
       "    } else if (window.WebIO) {\n",
       "        WebIO.mount(\n",
       "            document.querySelector('[data-webio-mountpoint=\"986208939574194772\"]'),\n",
       "            {\"props\":{},\"nodeType\":\"DOM\",\"type\":\"node\",\"instanceArgs\":{\"namespace\":\"html\",\"tag\":\"div\"},\"children\":[{\"props\":{\"attributes\":{\"height\":\"240\",\"width\":\"240\"},\"id\":\"ChessBoard\"},\"nodeType\":\"DOM\",\"type\":\"node\",\"instanceArgs\":{\"namespace\":\"html\",\"tag\":\"canvas\"},\"children\":[]},{\"props\":{},\"nodeType\":\"DOM\",\"type\":\"node\",\"instanceArgs\":{\"namespace\":\"html\",\"tag\":\"script\"},\"children\":[\"    function draw_queen(ctx, sx, sy){\\n        ctx.fillStyle = \\\"#C0C0C0\\\";\\n        ctx.fillText(\\\"Q\\\", sx+30\\/5, sy+4*30\\/5);\\n        ctx.fillStyle = \\\"#000000\\\";\\n    }\\n\\n    function draw_board(ctx, queens){\\n        n = queens.length\\n        ctx.fillStyle = \\\"#FFFFFF\\\";\\n        ctx.fillRect(0, 0, n*30, n*30);\\n        ctx.fillStyle = \\\"#000000\\\";\\n        sx = 0; sy = 0;\\n\\n        for (i=n-1; i >= 0; i--){\\n            for (j=0; j < n; j++){\\n                if ((i+j)%2 == 0) \\n                    ctx.fillRect(sx, sy, 30, 30);\\n                if (j == queens[i] - 1)\\n                    draw_queen(ctx, sx, sy)\\n                sx += 30;\\n            }\\n            sy += 30; sx = 0;\\n        }\\n    }\\n\\n    var c = document.getElementById(\\\"ChessBoard\\\"); \\n    var ctx = c.getContext(\\\"2d\\\"); \\n    ctx.font = \\\"24px sans-serif\\\"; \\n    draw_board(ctx, [4, 2, 7, 3, 6, 8, 5, 1]);\\n\"]}]},\n",
       "            window,\n",
       "        );\n",
       "    } else {\n",
       "        document\n",
       "            .querySelector('[data-webio-mountpoint=\"986208939574194772\"]')\n",
       "            .innerHTML = (\n",
       "                '<div style=\"padding: 1em; background-color: #f8d6da; border: 1px solid #f5c6cb\">' +\n",
       "                '<p><strong>WebIO not detected.</strong></p>' +\n",
       "                '<p>Please read ' +\n",
       "                '<a href=\"https://juliagizmos.github.io/WebIO.jl/latest/troubleshooting/not-detected/\" target=\"_blank\">the troubleshooting guide</a> ' +\n",
       "                'for more information on how to resolve this issue.</p>' +\n",
       "                '<p><a href=\"https://juliagizmos.github.io/WebIO.jl/latest/troubleshooting/not-detected/\" target=\"_blank\">https://juliagizmos.github.io/WebIO.jl/latest/troubleshooting/not-detected/</a></p>' +\n",
       "                '</div>'\n",
       "            );\n",
       "    }\n",
       "    </script>\n",
       "</div>\n"
      ],
      "text/plain": [
       "(div\n",
       "  (canvas { attributes=Dict{SubString{String}, SubString{String}}(\"height\" => \"240\", \"width\" => \"240\") id=\"ChessBoard\" })\n",
       "  (script\n",
       "    \"    function draw_queen(ctx, sx, sy){\\n        ctx.fillStyle = \\\"#C0C0C0\\\";\\n        ctx.fillText(\\\"Q\\\", sx+30/5, sy+4*30/5);\\n        ctx.fillStyle = \\\"#000000\\\";\\n    }\\n\\n    function draw_board(ctx, queens){\\n        n = queens.length\\n        ctx.fillStyle = \\\"#FFFFFF\\\";\\n        ctx.fillRect(0, 0, n*30, n*30);\\n        ctx.fillStyle = \\\"#000000\\\";\\n        sx = 0; sy = 0;\\n\\n        for (i=n-1; i >= 0; i--){\\n            for (j=0; j < n; j++){\\n                if ((i+j)%2 == 0) \\n                    ctx.fillRect(sx, sy, 30, 30);\\n                if (j == queens[i] - 1)\\n                    draw_queen(ctx, sx, sy)\\n                sx += 30;\\n            }\\n            sy += 30; sx = 0;\\n        }\\n    }\\n\\n    var c = document.getElementById(\\\"ChessBoard\\\"); \\n    var ctx = c.getContext(\\\"2d\\\"); \\n    ctx.font = \\\"24px sans-serif\\\"; \\n    draw_board(ctx, [4, 2, 7, 3, 6, 8, 5, 1]);\\n\"))"
      ]
     },
     "execution_count": 8,
     "metadata": {
      "application/vnd.webio.node+json": {
       "kernelId": "93f42400-fb21-4a31-8ab4-d2d1121e2fe7"
      }
     },
     "output_type": "execute_result"
    }
   ],
   "source": [
    "dom\"div\"(\n",
    "    dom\"canvas.#ChessBoard[width=$(N*W), height=$(N*W)]\"(),\n",
    "    dom\"script\"(\n",
    "        \"\"\"\n",
    "            function draw_queen(ctx, sx, sy){\n",
    "                ctx.fillStyle = \"#C0C0C0\";\n",
    "                ctx.fillText(\"Q\", sx+$W/5, sy+4*$W/5);\n",
    "                ctx.fillStyle = \"#000000\";\n",
    "            }\n",
    "\n",
    "            function draw_board(ctx, queens){\n",
    "                n = queens.length\n",
    "                ctx.fillStyle = \"#FFFFFF\";\n",
    "                ctx.fillRect(0, 0, n*$W, n*$W);\n",
    "                ctx.fillStyle = \"#000000\";\n",
    "                sx = 0; sy = 0;\n",
    "\n",
    "                for (i=n-1; i >= 0; i--){\n",
    "                    for (j=0; j < n; j++){\n",
    "                        if ((i+j)%2 == 0) \n",
    "                            ctx.fillRect(sx, sy, $W, $W);\n",
    "                        if (j == queens[i] - 1)\n",
    "                            draw_queen(ctx, sx, sy)\n",
    "                        sx += $W;\n",
    "                    }\n",
    "                    sy += $W; sx = 0;\n",
    "                }\n",
    "            }\n",
    "        \n",
    "            var c = document.getElementById(\"ChessBoard\"); \n",
    "            var ctx = c.getContext(\"2d\"); \n",
    "            ctx.font = \"$(4*div(W,5))px sans-serif\"; \n",
    "            draw_board(ctx, $([allqueens...]));\n",
    "        \"\"\"\n",
    "    )\n",
    ")"
   ]
  }
 ],
 "metadata": {
  "@webio": {
   "lastCommId": "69549d88b0a8471589a55b9cb285e2ef",
   "lastKernelId": "24ceb5cd-f06e-48e3-a682-e85b2cb5b2b6"
  },
  "kernelspec": {
   "display_name": "Julia 1.6.0",
   "language": "julia",
   "name": "julia-1.6"
  },
  "language_info": {
   "file_extension": ".jl",
   "mimetype": "application/julia",
   "name": "julia",
   "version": "1.6.0"
  }
 },
 "nbformat": 4,
 "nbformat_minor": 4
}
